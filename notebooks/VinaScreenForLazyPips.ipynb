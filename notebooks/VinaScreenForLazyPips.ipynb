{
 "cells": [
  {
   "cell_type": "markdown",
   "id": "72e5e9fd-3f96-4641-9b04-5d61189cbb7b",
   "metadata": {},
   "source": [
    "# VinaScreen\n",
    "For screening multiple ligands\n",
    "Requirements: \n",
    "Ligands: sdf, smi or pdb files\n",
    "Receptor: PDB files of receptors in receptor folder\n",
    "Parameters: config.txt of files specifying binding site, exhaustiveness and number of poses per ligand\n"
   ]
  },
  {
   "cell_type": "markdown",
   "id": "ad71e25f-4a08-41bf-b3aa-723afebcfed9",
   "metadata": {},
   "source": [
    "## Convert ligands to pdbqt\n",
    "!! output will be in ligand folder. make sure it is empty or previous run renamed"
   ]
  },
  {
   "cell_type": "code",
   "execution_count": 1,
   "id": "e373b611-2920-4283-bbe2-338accdff245",
   "metadata": {},
   "outputs": [
    {
     "name": "stdout",
     "output_type": "stream",
     "text": [
      "Detecting file format: sdf\n",
      "Reading molecules from: /home/nikka/Frag_output/top10_Ligs/top10Ligs.sdf\n",
      "Found 41 molecules\n",
      "Output directory: ligand\n",
      "Processed: 41/41 (converted: 41, skipped: 0) Rate: 72.7 mol/s ETA: 0s\n",
      "==================================================\n",
      "CONVERSION SUMMARY\n",
      "==================================================\n",
      "Total molecules processed: 41\n",
      "Successfully converted: 41\n",
      "Skipped (errors/timeouts): 0\n",
      "Success rate: 100.0%\n",
      "Total time: 0.6 seconds\n",
      "Output files saved in: ligand/\n"
     ]
    }
   ],
   "source": [
    "!python pdbqt_converter.py /home/nikka/Frag_output/top10_Ligs/top10Ligs.sdf"
   ]
  },
  {
   "cell_type": "markdown",
   "id": "c3c7389d-afa3-4c37-94e6-53dd922d4579",
   "metadata": {},
   "source": [
    "## Run docking screen\n",
    "do not forget to edit config.txt!!!!!\n",
    "rename output"
   ]
  },
  {
   "cell_type": "code",
   "execution_count": 12,
   "id": "a75f01ad-7a8d-454b-9597-3d8914e245e9",
   "metadata": {},
   "outputs": [
    {
     "name": "stdout",
     "output_type": "stream",
     "text": [
      "============================================================\n",
      "VinaScreen High-Throughput Docking Pipeline (main.py)\n",
      "============================================================\n",
      "\n",
      "Step 1: Validating environment setup...\n",
      "Validating VinaScreen environment...\n",
      "==================================================\n",
      "✓ Found Vina executable: vina_1.2.7_linux_x86_64\n",
      "✓ Found ligand folder with 41 ligand files\n",
      "✓ Found receptor folder with 1 receptor files\n",
      "✓ Found and validated config.txt file\n",
      "✓ Created output folder: output\n",
      "==================================================\n",
      "✓ Environment validation successful!\n",
      "\n",
      "Step 2: Loading inputs...\n",
      "  41 ligands loaded\n",
      "  1 receptors loaded\n",
      "\n",
      "Step 3: Initializing CSV reporter and progress tracker...\n",
      "  Output CSV: vinascreen_results.csv\n",
      "  Total docking jobs: 41\n",
      "\n",
      "Step 4: Launching docking runs...\n",
      "\n",
      "Processed: 41/41 (kept: 41, skipped: 0)\n",
      "\n",
      "Step 5: Summary\n",
      "============================================================\n",
      "Docking complete. 41 jobs processed.\n",
      "Results saved to: vinascreen_results.csv\n",
      "============================================================\n"
     ]
    }
   ],
   "source": [
    "!python run_vinascreen.py"
   ]
  },
  {
   "cell_type": "markdown",
   "id": "18ebaa4f-eed8-4a87-9e80-f1f6258ed7e4",
   "metadata": {},
   "source": [
    "# Convert VinaScreen pdbqt output to smiles"
   ]
  },
  {
   "cell_type": "code",
   "execution_count": 2,
   "id": "d465940c-7d29-4fda-abe7-b23b0f99b894",
   "metadata": {},
   "outputs": [
    {
     "name": "stderr",
     "output_type": "stream",
     "text": [
      "==============================\n",
      "*** Open Babel Warning  in PerceiveBondOrders\n",
      "  Failed to kekulize aromatic bonds in OBMol::PerceiveBondOrders (title is pdL1G1_PdL1G1_0250)\n",
      "\n",
      "==============================\n",
      "*** Open Babel Warning  in PerceiveBondOrders\n",
      "  Failed to kekulize aromatic bonds in OBMol::PerceiveBondOrders (title is pdL1G1_PdL1G1_0250)\n",
      "\n",
      "==============================\n",
      "*** Open Babel Warning  in PerceiveBondOrders\n",
      "  Failed to kekulize aromatic bonds in OBMol::PerceiveBondOrders (title is pdL1G1_PdL1G1_0250)\n",
      "\n",
      "==============================\n",
      "*** Open Babel Warning  in PerceiveBondOrders\n",
      "  Failed to kekulize aromatic bonds in OBMol::PerceiveBondOrders (title is pdL1G1_PdL1G1_0320)\n",
      "\n",
      "==============================\n",
      "*** Open Babel Warning  in PerceiveBondOrders\n",
      "  Failed to kekulize aromatic bonds in OBMol::PerceiveBondOrders (title is pdL1G1_PdL1G1_0320)\n",
      "\n",
      "==============================\n",
      "*** Open Babel Warning  in PerceiveBondOrders\n",
      "  Failed to kekulize aromatic bonds in OBMol::PerceiveBondOrders (title is pdL1G1_PdL1G1_0320)\n",
      "\n",
      "==============================\n",
      "*** Open Babel Warning  in PerceiveBondOrders\n",
      "  Failed to kekulize aromatic bonds in OBMol::PerceiveBondOrders (title is pdL1G1_PdL1G1_0202)\n",
      "\n",
      "==============================\n",
      "*** Open Babel Warning  in PerceiveBondOrders\n",
      "  Failed to kekulize aromatic bonds in OBMol::PerceiveBondOrders (title is pdL1G1_PdL1G1_0202)\n",
      "\n",
      "==============================\n",
      "*** Open Babel Warning  in PerceiveBondOrders\n",
      "  Failed to kekulize aromatic bonds in OBMol::PerceiveBondOrders (title is pdL1G1_PdL1G1_0202)\n",
      "\n",
      "==============================\n",
      "*** Open Babel Warning  in PerceiveBondOrders\n",
      "  Failed to kekulize aromatic bonds in OBMol::PerceiveBondOrders (title is pdL1G1_PdL1G1_0100)\n",
      "\n",
      "==============================\n",
      "*** Open Babel Warning  in PerceiveBondOrders\n",
      "  Failed to kekulize aromatic bonds in OBMol::PerceiveBondOrders (title is pdL1G1_PdL1G1_0100)\n",
      "\n",
      "==============================\n",
      "*** Open Babel Warning  in PerceiveBondOrders\n",
      "  Failed to kekulize aromatic bonds in OBMol::PerceiveBondOrders (title is pdL1G1_PdL1G1_0100)\n",
      "\n",
      "==============================\n",
      "*** Open Babel Warning  in PerceiveBondOrders\n",
      "  Failed to kekulize aromatic bonds in OBMol::PerceiveBondOrders (title is pdL1G1_PdL1G1_0334)\n",
      "\n",
      "==============================\n",
      "*** Open Babel Warning  in PerceiveBondOrders\n",
      "  Failed to kekulize aromatic bonds in OBMol::PerceiveBondOrders (title is pdL1G1_PdL1G1_0334)\n",
      "\n",
      "==============================\n",
      "*** Open Babel Warning  in PerceiveBondOrders\n",
      "  Failed to kekulize aromatic bonds in OBMol::PerceiveBondOrders (title is pdL1G1_PdL1G1_0334)\n",
      "\n",
      "==============================\n",
      "*** Open Babel Warning  in PerceiveBondOrders\n",
      "  Failed to kekulize aromatic bonds in OBMol::PerceiveBondOrders (title is pdL1G1_PdL1G1_0133)\n",
      "\n",
      "==============================\n",
      "*** Open Babel Warning  in PerceiveBondOrders\n",
      "  Failed to kekulize aromatic bonds in OBMol::PerceiveBondOrders (title is pdL1G1_PdL1G1_0133)\n",
      "\n",
      "==============================\n",
      "*** Open Babel Warning  in PerceiveBondOrders\n",
      "  Failed to kekulize aromatic bonds in OBMol::PerceiveBondOrders (title is pdL1G1_PdL1G1_0133)\n",
      "\n"
     ]
    }
   ],
   "source": [
    "import os\n",
    "import re\n",
    "import pandas as pd\n",
    "from openbabel import pybel\n",
    "\n",
    "def parse_vina_pdbqt(filename):\n",
    "    \"\"\"Extract models and scores from vina PDBQT output file.\"\"\"\n",
    "    results = []\n",
    "    with open(filename, 'r') as f:\n",
    "        content = f.read()\n",
    "    # Split models: each model starts with \"MODEL\" and ends with \"ENDMDL\"\n",
    "    models = re.split('(MODEL.*?ENDMDL)', content, flags=re.DOTALL)\n",
    "    model_number = 1\n",
    "    for model in models:\n",
    "        if 'MODEL' in model and 'ENDMDL' in model:\n",
    "            # Extract vina score (affinity) from REMARK line\n",
    "            score_match = re.search(r'REMARK VINA RESULT:\\s*([-.\\d]+)', model)\n",
    "            if score_match:\n",
    "                score = float(score_match.group(1))\n",
    "            else:\n",
    "                score = None\n",
    "            # Write each pose to temp pdbqt for conversion\n",
    "            temp_name = '_temp_model.pdbqt'\n",
    "            with open(temp_name, 'w') as out:\n",
    "                out.write(model)\n",
    "            # Use openbabel to convert to SMILES\n",
    "            mols = list(pybel.readfile(\"pdbqt\", temp_name))\n",
    "            if mols:\n",
    "                smiles = mols[0].write(format=\"smi\").split()[0]\n",
    "            else:\n",
    "                smiles = None\n",
    "            os.remove(temp_name)\n",
    "            results.append((model_number, score, smiles))\n",
    "            model_number += 1\n",
    "    return results\n",
    "\n",
    "data = []\n",
    "folder = \"output_PDL1G1\" #path to folder\n",
    "for fname in os.listdir(folder):\n",
    "    if fname.endswith(\".pdbqt\"):\n",
    "        full_path = os.path.join(folder, fname)\n",
    "        basename = os.path.splitext(fname)[0]\n",
    "        models = parse_vina_pdbqt(full_path)\n",
    "        for model_id, vina_score, smiles in models:\n",
    "            row_id = f\"{basename}_{model_id}\"\n",
    "            data.append({'ID': row_id, 'SMILES': smiles, 'vina_score': vina_score})\n",
    "\n",
    "# Output as CSV\n",
    "df = pd.DataFrame(data)\n",
    "\n",
    "# Sort to ensure lowest model number comes first for each SMILES\n",
    "df['model_num'] = df['ID'].str.extract(r'_(\\d+)$').astype(int)\n",
    "df.sort_values(by=['SMILES', 'model_num'], inplace=True)\n",
    "# Drop duplicates keeping lowest model number (first occurrence)\n",
    "df_no_dupes = df.drop_duplicates(subset=[\"SMILES\"], keep='first')\n",
    "# Drop auxiliary column before saving\n",
    "df_no_dupes = df_no_dupes.drop(columns=['model_num'])\n",
    "df_no_dupes.to_csv(\"vina_PDL1G1.csv\", index=False) #change file name\n"
   ]
  }
 ],
 "metadata": {
  "kernelspec": {
   "display_name": "Python (deepFrog311)",
   "language": "python",
   "name": "deepfrog311"
  },
  "language_info": {
   "codemirror_mode": {
    "name": "ipython",
    "version": 3
   },
   "file_extension": ".py",
   "mimetype": "text/x-python",
   "name": "python",
   "nbconvert_exporter": "python",
   "pygments_lexer": "ipython3",
   "version": "3.11.13"
  }
 },
 "nbformat": 4,
 "nbformat_minor": 5
}
